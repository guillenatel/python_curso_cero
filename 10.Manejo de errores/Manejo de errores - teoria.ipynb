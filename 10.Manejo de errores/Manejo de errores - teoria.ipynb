{
 "cells": [
  {
   "cell_type": "markdown",
   "metadata": {},
   "source": [
    "# <center>**10 - MANEJO DE ERRORES**</center>"
   ]
  },
  {
   "cell_type": "markdown",
   "metadata": {},
   "source": [
    "Cuando estamos construyendo un software, es muy importante tener en cuenta que los usuarios pueden cometer errores, y que nuestro programa debe estar preparado para manejarlos. Normalmente, los errores detendrían la ejecución del programa y mostrarían un mensaje de error al usuario, pero podemos manejarlos para que el programa no se detenga y podamos mostrar un mensaje más amigable al usuario.\n",
    "\n",
    "Para hacer esto, utilizamos la estructura `try-except`. Dentro del bloque `try` colocamos el código que queremos ejecutar, y dentro del bloque `except` colocamos el código que se ejecutará si ocurre un error. Veamos un ejemplo:"
   ]
  },
  {
   "cell_type": "code",
   "execution_count": null,
   "metadata": {},
   "outputs": [],
   "source": [
    "try:\n",
    "    print(asdasd)\n",
    "except:\n",
    "    print(\"Detectamos un error\")"
   ]
  },
  {
   "cell_type": "markdown",
   "metadata": {},
   "source": [
    "En este caso, el error fue un error de nombre o `NameError`, que ocurre cuando intentamos utilizar una variable que no ha sido definida. En el bloque `except` podemos especificar el tipo de error que queremos manejar, o podemos dejarlo en blanco para manejar cualquier tipo de error. También podemos manejar varios tipos de errores en un mismo bloque `except` separándolos por comas."
   ]
  },
  {
   "cell_type": "code",
   "execution_count": null,
   "metadata": {},
   "outputs": [],
   "source": [
    "try:\n",
    "    ingreso = int(input(\"Ingrese un numero: \"))\n",
    "    print(ingreso)\n",
    "except ValueError:\n",
    "    print(\"Error, no ingresaste un numero\")"
   ]
  },
  {
   "cell_type": "markdown",
   "metadata": {},
   "source": [
    "Si queremos que el programa se detenga cuando ocurra un error, podemos utilizar la palabra reservada `raise` para generar un error de manera intencional. Esto es útil cuando queremos que el usuario ingrese un valor válido, por ejemplo:"
   ]
  },
  {
   "cell_type": "code",
   "execution_count": null,
   "metadata": {},
   "outputs": [],
   "source": [
    "try:\n",
    "    ingreso = input(\"Ingrese un numero: \")\n",
    "    if ingreso.isnumeric():\n",
    "        ingreso = int(ingreso)\n",
    "    else:\n",
    "        raise ValueError(\"No ingresaste un numero\")\n",
    "except ValueError as error:\n",
    "    print(error)"
   ]
  },
  {
   "cell_type": "markdown",
   "metadata": {},
   "source": [
    "En el ejemplo anterior lanzamos un error de tipo `ValueError` cuando el usuario no ingresa un número. Podemos personalizar el mensaje de error que se muestra al usuario pasando un string como argumento de `ValueError`, para luego mostrarlo en el bloque `except` mediante un alias."
   ]
  },
  {
   "cell_type": "code",
   "execution_count": null,
   "metadata": {},
   "outputs": [],
   "source": [
    "try:\n",
    "    dividendo = int(input(\"Ingrese un dividendo: \"))\n",
    "    divisor = int(input(\"Ingrese un divisor: \"))\n",
    "    resultado = dividendo / divisor\n",
    "    print(resultado)\n",
    "except ZeroDivisionError:\n",
    "    print(\"No se puede dividir por cero\")\n",
    "except ValueError:\n",
    "    print(\"Debe ingresar numeros\")\n",
    "except Exception as error:\n",
    "    print(\"Error inesperado:\", error)\n"
   ]
  },
  {
   "cell_type": "markdown",
   "metadata": {},
   "source": [
    "Cuando necesitamos imprimir algo, es común utilizar `else` para imprimirlo en caso de que no ocurra ningún error. También podemos utilizar `finally` para ejecutar un bloque de código al final de la ejecución, sin importar si ocurrió un error o no."
   ]
  },
  {
   "cell_type": "code",
   "execution_count": null,
   "metadata": {},
   "outputs": [],
   "source": [
    "try:\n",
    "    dividendo = int(input(\"Ingrese un dividendo: \"))\n",
    "    divisor = int(input(\"Ingrese un divisor: \"))\n",
    "    resultado = dividendo / divisor\n",
    "except ZeroDivisionError:\n",
    "    print(\"No se puede dividir por cero\")\n",
    "except (ValueError, TypeError):\n",
    "    print(\"Debe ingresar numeros\")\n",
    "except Exception as error:\n",
    "    print(\"Error inesperado:\", error)\n",
    "else:\n",
    "    print(\"El resultado es: \", resultado)\n",
    "finally:\n",
    "    print(\"Fin del bloque try-except\")"
   ]
  },
  {
   "cell_type": "markdown",
   "metadata": {},
   "source": [
    "El manejo de errores es muy importante para que nuestro programa no se detenga cuando ocurre un error, y para mostrar mensajes de error más amigables al usuario.\n",
    "\n",
    "Tambien podemos crear nuestros propios errores, para esto debemos crear una clase que herede de `Exception`:"
   ]
  },
  {
   "cell_type": "code",
   "execution_count": null,
   "metadata": {},
   "outputs": [],
   "source": [
    "class MiError(Exception):\n",
    "    def __init__(self, mensaje):\n",
    "        super().__init__(mensaje)\n",
    "        \n",
    "try:\n",
    "    raise MiError(\"Mi mensaje de error\")\n",
    "except MiError as error:\n",
    "    print(error)"
   ]
  },
  {
   "cell_type": "markdown",
   "metadata": {},
   "source": [
    "### CASOS DE USO"
   ]
  },
  {
   "cell_type": "markdown",
   "metadata": {},
   "source": [
    "#### Manejo de archivos\n",
    "\n",
    "Cuando trabajamos con archivos, es muy común que ocurran errores. Por ejemplo, si queremos abrir un archivo que no existe, se producirá un error de tipo `FileNotFoundError`. Podemos manejar este error para mostrar un mensaje más amigable al usuario:"
   ]
  },
  {
   "cell_type": "code",
   "execution_count": null,
   "metadata": {},
   "outputs": [],
   "source": [
    "try:\n",
    "    archivo = open(\"archivo.txt\")\n",
    "except FileNotFoundError:\n",
    "    print(\"El archivo no existe\")\n",
    "else:\n",
    "    print(\"El archivo se abrio correctamente\")\n",
    "    # proceso del archivo normal\n",
    "    archivo.close()"
   ]
  },
  {
   "cell_type": "markdown",
   "metadata": {},
   "source": [
    "#### Validación de datos\n",
    "\n",
    "Cuando le pedimos al usuario que ingrese un dato, es muy común que ingrese un dato inválido. Por ejemplo, si le pedimos que ingrese un número, es posible que ingrese un string. Podemos utilizar un ciclo `while` para pedirle al usuario que ingrese un dato válido:"
   ]
  },
  {
   "cell_type": "code",
   "execution_count": null,
   "metadata": {},
   "outputs": [],
   "source": [
    "while True:\n",
    "    try:\n",
    "        numero = int(input(\"Ingrese un numero: \"))\n",
    "        break\n",
    "    except ValueError:\n",
    "        print(\"Error, debe ingresar un numero\")"
   ]
  },
  {
   "cell_type": "markdown",
   "metadata": {},
   "source": [
    "#### Conexiones de red/base de datos\n",
    "\n",
    "Cuando trabajamos con conexiones de red es muy común que se agote el tiempo de espera, o que ocurra un error de conexión. Podemos manejar estos errores para intentar conectarnos nuevamente:"
   ]
  },
  {
   "cell_type": "code",
   "execution_count": null,
   "metadata": {},
   "outputs": [],
   "source": [
    "import socket\n",
    "\n",
    "try:\n",
    "    conexion = socket.create_connection((\"google.com\", 8080), timeout=5)\n",
    "except socket.timeout:\n",
    "    print(\"¡Error! La conexión ha superado el tiempo de espera.\")\n",
    "except socket.error as e:\n",
    "    print(f\"¡Error de conexión! {e}\")\n",
    "else:\n",
    "    print(\"La conexión se ha establecido correctamente.\")\n",
    "    conexion.close()"
   ]
  },
  {
   "cell_type": "markdown",
   "metadata": {},
   "source": [
    "#### Acceso a elementos de una lista\n",
    "\n",
    "Cuando accedemos a un elemento de una lista, es posible que el índice no exista:"
   ]
  },
  {
   "cell_type": "code",
   "execution_count": null,
   "metadata": {},
   "outputs": [],
   "source": [
    "mi_lista = [1, 2, 3]\n",
    "\n",
    "try:\n",
    "    elemento = mi_lista[5]\n",
    "except IndexError:\n",
    "    print(\"¡Error! Índice fuera de rango.\")\n",
    "except Exception as e:\n",
    "    print(f\"¡Error inesperado! {e}\")\n"
   ]
  },
  {
   "cell_type": "markdown",
   "metadata": {},
   "source": [
    "#### Uso de módulos inexistentes\n",
    "\n",
    "Cuando importamos un módulo, es posible que este no exista o no esté instalado, por lo que se producirá un error de tipo `ModuleNotFoundError`:"
   ]
  },
  {
   "cell_type": "code",
   "execution_count": null,
   "metadata": {},
   "outputs": [],
   "source": [
    "try:\n",
    "    import modulo_inexistente\n",
    "except ImportError:\n",
    "    print(\"¡Error! No se puede importar el módulo requerido.\")\n",
    "except Exception as e:\n",
    "    print(f\"¡Error inesperado! {e}\")"
   ]
  }
 ],
 "metadata": {
  "kernelspec": {
   "display_name": "Python 3",
   "language": "python",
   "name": "python3"
  },
  "language_info": {
   "codemirror_mode": {
    "name": "ipython",
    "version": 3
   },
   "file_extension": ".py",
   "mimetype": "text/x-python",
   "name": "python",
   "nbconvert_exporter": "python",
   "pygments_lexer": "ipython3",
   "version": "3.12.0"
  }
 },
 "nbformat": 4,
 "nbformat_minor": 2
}
