{
 "cells": [
  {
   "cell_type": "markdown",
   "metadata": {},
   "source": [
    "## Operadores - Actividad"
   ]
  },
  {
   "cell_type": "markdown",
   "metadata": {},
   "source": [
    "1) Pedir al usuario dos números y mostrar por pantalla la suma de ellos."
   ]
  },
  {
   "cell_type": "code",
   "execution_count": 1,
   "metadata": {},
   "outputs": [
    {
     "name": "stdout",
     "output_type": "stream",
     "text": [
      "10\n"
     ]
    }
   ],
   "source": [
    "num1 = int(input(\"Ingrese el primer número\")); \n",
    "num2 = int(input(\"Ingrese el segundo número\")); \n",
    "\n",
    "suma = num1+num2; \n",
    "\n",
    "print(suma);  "
   ]
  },
  {
   "cell_type": "markdown",
   "metadata": {},
   "source": [
    "2) Calcular el perímetro y área de un rectángulo dada su base y su altura (el usuario debe introducir por teclado los dos valores)."
   ]
  },
  {
   "cell_type": "code",
   "execution_count": 4,
   "metadata": {},
   "outputs": [
    {
     "name": "stdout",
     "output_type": "stream",
     "text": [
      "El perimetro es:44 y el area es: 105\n"
     ]
    }
   ],
   "source": [
    "altura = int(input(\"Ingrese el valor de la altura\")); \n",
    "base = int(input(\"Ingrese el valor de la base\")); \n",
    "\n",
    "perimetro = (2*altura) + (2*base); \n",
    "area = base * altura;  \n",
    "\n",
    "print(f\"El perimetro es:{perimetro}cm  y el area es: {area}cm2\"); \n"
   ]
  },
  {
   "cell_type": "markdown",
   "metadata": {},
   "source": [
    "3) Calcular el resultado de elevar un número entero a otro número entero (por ejemplo, 5 elevado a 3 = 5^3 = 5*5*5)."
   ]
  },
  {
   "cell_type": "code",
   "execution_count": 5,
   "metadata": {},
   "outputs": [
    {
     "name": "stdout",
     "output_type": "stream",
     "text": [
      "3125\n"
     ]
    }
   ],
   "source": [
    "num_elevado = num1 ** num2; \n",
    "print(num_elevado);"
   ]
  },
  {
   "cell_type": "markdown",
   "metadata": {},
   "source": [
    "4) Escribe un programa que convierta grados Celsius a grados Fahrenheit utilizando la fórmula: **F = (C * 9/5) + 32**"
   ]
  },
  {
   "cell_type": "code",
   "execution_count": 1,
   "metadata": {},
   "outputs": [
    {
     "name": "stdout",
     "output_type": "stream",
     "text": [
      "35.5 grados Celsius equivalen a 95.9 grados Fahrenheit.\n"
     ]
    }
   ],
   "source": [
    "celsuis = float(input(\"Ingrese la temperatura en grados Celsuis\")); \n",
    "\n",
    "fahrenheit = (celsuis * 9/5) + 32; \n",
    "\n",
    "print(f\"{celsuis} grados Celsius equivalen a {fahrenheit} grados Fahrenheit.\");"
   ]
  },
  {
   "cell_type": "markdown",
   "metadata": {},
   "source": [
    "5) Pedir al usuario su edad y mostrar por pantalla si es mayor de edad o no. (Mayor de edad >= 18)"
   ]
  },
  {
   "cell_type": "code",
   "execution_count": 26,
   "metadata": {},
   "outputs": [
    {
     "name": "stdout",
     "output_type": "stream",
     "text": [
      "¿Es mayor de edad?  True\n"
     ]
    }
   ],
   "source": [
    "edad_persona= int(input(\"Ingrese su edad\")); \n",
    "\n",
    "print(\"¿Es mayor de edad? \",edad_persona>=18);"
   ]
  },
  {
   "cell_type": "markdown",
   "metadata": {},
   "source": [
    "6) Comprobar si el numero ingresado por el usuario es par o impar."
   ]
  },
  {
   "cell_type": "code",
   "execution_count": 10,
   "metadata": {},
   "outputs": [
    {
     "name": "stdout",
     "output_type": "stream",
     "text": [
      "¿Es un número par? True\n"
     ]
    }
   ],
   "source": [
    "num = int(input(\"Ingrese un numero\")); \n",
    "(print(\"¿Es un número par?\",num%2==0)); "
   ]
  },
  {
   "cell_type": "markdown",
   "metadata": {},
   "source": [
    "7) Pedir al usuario que ingrese su dirección email y luego mostrar un mensaje indicando si la dirección es válida o no. Una dirección se considerará válida si contiene el símbolo \"@\"."
   ]
  },
  {
   "cell_type": "code",
   "execution_count": 12,
   "metadata": {},
   "outputs": [
    {
     "name": "stdout",
     "output_type": "stream",
     "text": [
      "¿Es una direccion valida? True\n"
     ]
    }
   ],
   "source": [
    "email = (input(\"Ingrese su direccion email\")); \n",
    "(print(\"¿Es una direccion válida?\",\"@\" in email));"
   ]
  },
  {
   "cell_type": "markdown",
   "metadata": {},
   "source": [
    "8) Dado un número de dos cifras, diseñe un algoritmo que permita obtener el número invertido. Ejemplo, si se introduce 23 que muestre 32. (Recordar que las cadenas pueden tratarse como listas de caracteres)."
   ]
  },
  {
   "cell_type": "code",
   "execution_count": 5,
   "metadata": {},
   "outputs": [
    {
     "name": "stdout",
     "output_type": "stream",
     "text": [
      "Por favor, ingresa un número de dos cifras.\n",
      "El número invertido es: 65\n"
     ]
    }
   ],
   "source": [
    "numero = input(\"Ingresa un número de dos cifras: \");\n",
    "\n",
    "if len(numero) != 2:\n",
    "    print(\"Por favor, ingresa un número de dos cifras.\");\n",
    "else:\n",
    "    numero_invertido = numero[1] + numero[0];\n",
    "\n",
    "print(\"El número invertido es:\", numero_invertido);\n"
   ]
  },
  {
   "cell_type": "markdown",
   "metadata": {},
   "source": [
    "9) Crea un programa que pida al usuario dos números y muestre True si ambos son mayores que 10."
   ]
  },
  {
   "cell_type": "code",
   "execution_count": 15,
   "metadata": {},
   "outputs": [
    {
     "name": "stdout",
     "output_type": "stream",
     "text": [
      "¿Ambos numeros son mayores que 10? False\n"
     ]
    }
   ],
   "source": [
    "num_1 = int(input(\"Ingrese el primer número\")); \n",
    "num_2 = int(input(\"Ingrese el segundo número\")); \n",
    "\n",
    "print(\"¿Ambos numeros son mayores que 10?\", num_1>10 and num_2>10); "
   ]
  },
  {
   "cell_type": "markdown",
   "metadata": {},
   "source": [
    "10) Escribe un programa que verifique si un número ingresado por el usuario es divisible por 3 y por 5."
   ]
  },
  {
   "cell_type": "code",
   "execution_count": 7,
   "metadata": {},
   "outputs": [
    {
     "name": "stdout",
     "output_type": "stream",
     "text": [
      "El numero 3 es divisible por 3? True\n",
      "El numero 3 es divisible por 5? False\n"
     ]
    }
   ],
   "source": [
    "numero1 = int(input(\"Ingresa un número: \"));\n",
    "\n",
    "print(f\"El numero {numero1} es divisible por 3?\", (numero1 % 3) == 0); \n",
    "\n",
    "print(f\"El numero {numero1} es divisible por 5?\", (numero1 % 5) == 0); "
   ]
  },
  {
   "cell_type": "markdown",
   "metadata": {},
   "source": [
    "11) Utilizando la información del punto 5, preguntar al usuario si posee carnet de conducir, luego verificar si puede conducir un automóvil."
   ]
  },
  {
   "cell_type": "code",
   "execution_count": 32,
   "metadata": {},
   "outputs": [
    {
     "name": "stdout",
     "output_type": "stream",
     "text": [
      "¿El usuario puede conducir un automovil? True\n"
     ]
    }
   ],
   "source": [
    "carnet_conducir = input(\"¿Usted posee carnet de conducir?(si/no)\"); \n",
    "\n",
    "print(\"¿El usuario puede conducir un automovil?\", carnet_conducir == \"si\" or carnet_conducir ==\"SI\" and edad_persona>=18);"
   ]
  },
  {
   "cell_type": "markdown",
   "metadata": {},
   "source": [
    "12) Pide al usuario un número y verifica si es positivo y no es mayor que 100."
   ]
  },
  {
   "cell_type": "code",
   "execution_count": 35,
   "metadata": {},
   "outputs": [
    {
     "name": "stdout",
     "output_type": "stream",
     "text": [
      "¿El numero ingresado es positivo y no es mayor que 100? False\n"
     ]
    }
   ],
   "source": [
    "numero2 = int(input(\"Ingresa un número: \"));\n",
    "\n",
    "print(\"¿El numero ingresado es positivo y no es mayor que 100?\", numero2 > 0 and numero2 < 100); "
   ]
  },
  {
   "cell_type": "markdown",
   "metadata": {},
   "source": [
    "13) Crear un programa que valide si un número ingresado por el usuario es par y mayor que 20."
   ]
  },
  {
   "cell_type": "code",
   "execution_count": 39,
   "metadata": {},
   "outputs": [
    {
     "name": "stdout",
     "output_type": "stream",
     "text": [
      "¿El numero ingresado es par y mayor que 20? False\n"
     ]
    }
   ],
   "source": [
    "numero3 = int(input(\"Ingresa un número: \"));\n",
    "\n",
    "print(\"¿El numero ingresado es par y mayor que 20?\", numero3 % 2 == 0 and numero3 > 20); "
   ]
  },
  {
   "cell_type": "markdown",
   "metadata": {},
   "source": [
    "14) Dada la variable **numero = 5**, realizar la operación necesaria para que número sea igual a 8. Luego imprimir en pantalla el nuevo valor de número y realizar una nueva operación para que el valor de número sea igual a 4 y mostrar en pantalla el nuevo valor."
   ]
  },
  {
   "cell_type": "code",
   "execution_count": 41,
   "metadata": {},
   "outputs": [
    {
     "name": "stdout",
     "output_type": "stream",
     "text": [
      "8\n",
      "4\n"
     ]
    }
   ],
   "source": [
    "numero = 5; \n",
    "\n",
    "numero = 8; \n",
    "\n",
    "print(numero)\n",
    "\n",
    "numero = 4; \n",
    "\n",
    "print(numero);"
   ]
  },
  {
   "cell_type": "markdown",
   "metadata": {},
   "source": [
    "15) Dadas las variables altura = \"10\" y base = 5, calcular el área de un triángulo y mostrar el resultado en pantalla. ¿Por qué el resultado es un error? ¿Cómo lo corregirías?"
   ]
  },
  {
   "cell_type": "code",
   "execution_count": 42,
   "metadata": {},
   "outputs": [
    {
     "ename": "NameError",
     "evalue": "name 'perimetro' is not defined",
     "output_type": "error",
     "traceback": [
      "\u001b[1;31m---------------------------------------------------------------------------\u001b[0m",
      "\u001b[1;31mNameError\u001b[0m                                 Traceback (most recent call last)",
      "\u001b[1;32md:\\CURSOS 2023\\Python\\3.Operadores\\Operadores - Actividad.ipynb Cell 31\u001b[0m line \u001b[0;36m6\n\u001b[0;32m      <a href='vscode-notebook-cell:/d%3A/CURSOS%202023/Python/3.Operadores/Operadores%20-%20Actividad.ipynb#X42sZmlsZQ%3D%3D?line=1'>2</a>\u001b[0m base \u001b[39m=\u001b[39m \u001b[39m5\u001b[39m; \n\u001b[0;32m      <a href='vscode-notebook-cell:/d%3A/CURSOS%202023/Python/3.Operadores/Operadores%20-%20Actividad.ipynb#X42sZmlsZQ%3D%3D?line=3'>4</a>\u001b[0m area \u001b[39m=\u001b[39m base \u001b[39m*\u001b[39m altura;  \n\u001b[1;32m----> <a href='vscode-notebook-cell:/d%3A/CURSOS%202023/Python/3.Operadores/Operadores%20-%20Actividad.ipynb#X42sZmlsZQ%3D%3D?line=5'>6</a>\u001b[0m \u001b[39mprint\u001b[39m(\u001b[39mf\u001b[39m\u001b[39m\"\u001b[39m\u001b[39mEl perimetro es:\u001b[39m\u001b[39m{\u001b[39;00mperimetro\u001b[39m}\u001b[39;00m\u001b[39mcm  y el area es: \u001b[39m\u001b[39m{\u001b[39;00marea\u001b[39m}\u001b[39;00m\u001b[39mcm2\u001b[39m\u001b[39m\"\u001b[39m); \n",
      "\u001b[1;31mNameError\u001b[0m: name 'perimetro' is not defined"
     ]
    }
   ],
   "source": [
    "altura = \"10\"; \n",
    "base = 5; \n",
    "\n",
    "area = base * altura;  \n",
    "\n",
    "print(f\"El perimetro es:{perimetro}cm  y el area es: {area}cm2\"); \n",
    "\n",
    "# Tira error porque la altura es declarada como un string y no como un numero. Colocando la altura como un numero y no como un string. \n",
    "\n"
   ]
  },
  {
   "cell_type": "markdown",
   "metadata": {},
   "source": [
    "16) Crea un programa que calcule el promedio de tres calificaciones ingresadas por el usuario, y comprobar si el alumno aprobó o no (aprueba con nota mayor a 6)."
   ]
  },
  {
   "cell_type": "code",
   "execution_count": 3,
   "metadata": {},
   "outputs": [
    {
     "name": "stdout",
     "output_type": "stream",
     "text": [
      "¿El alumno aprobo la meteria? False\n"
     ]
    }
   ],
   "source": [
    "califacion_1 = int(input(\"Ingrese la primera calificación: \")); \n",
    "califacion_2 = int(input(\"Ingrese la segunda calificación: \")); \n",
    "califacion_3 = int(input(\"Ingrese la tercera calificación: \")); \n",
    "\n",
    "promedio = (califacion_1 + califacion_2 + califacion_3) / 3; \n",
    "\n",
    "print(\"¿El alumno aprobo la meteria?\", promedio > 6); \n"
   ]
  },
  {
   "cell_type": "markdown",
   "metadata": {},
   "source": [
    "17) Pide al usuario su edad y calcula cuántos días, horas y minutos ha vivido aproximadamente (asumiendo 365 días por año)."
   ]
  },
  {
   "cell_type": "code",
   "execution_count": 4,
   "metadata": {},
   "outputs": [
    {
     "name": "stdout",
     "output_type": "stream",
     "text": [
      "Has vivido aproximadamente 7665 días.\n",
      "Has vivido aproximadamente 183960 horas.\n",
      "Has vivido aproximadamente 11037600 minutos.\n"
     ]
    }
   ],
   "source": [
    "edad = int(input(\"Ingrese su edad:\")); \n",
    "\n",
    "dias = edad * 365; \n",
    "horas = dias * 24; \n",
    "minutos = horas * 60; \n",
    "\n",
    "print(f\"Has vivido aproximadamente {dias} días.\"); \n",
    "print(f\"Has vivido aproximadamente {horas} horas.\"); \n",
    "print(f\"Has vivido aproximadamente {minutos} minutos.\"); "
   ]
  },
  {
   "cell_type": "markdown",
   "metadata": {},
   "source": [
    "18) Crea un programa que verifique si un número ingresado por el usuario es múltiplo de 4 y de 6 al mismo tiempo."
   ]
  },
  {
   "cell_type": "code",
   "execution_count": 6,
   "metadata": {},
   "outputs": [
    {
     "name": "stdout",
     "output_type": "stream",
     "text": [
      "El numero 12 es multiplo de 4 y de 6 al mismo tiempo? True\n"
     ]
    }
   ],
   "source": [
    "numero4 = int(input(\"Ingresa un número: \"));\n",
    "\n",
    "print(f\"El numero {numero4} es multiplo de 4 y de 6 al mismo tiempo?\", (numero4 % 4 == 0) and (numero4 % 6 == 0)); \n",
    "\n"
   ]
  }
 ],
 "metadata": {
  "kernelspec": {
   "display_name": "Python 3",
   "language": "python",
   "name": "python3"
  },
  "language_info": {
   "codemirror_mode": {
    "name": "ipython",
    "version": 3
   },
   "file_extension": ".py",
   "mimetype": "text/x-python",
   "name": "python",
   "nbconvert_exporter": "python",
   "pygments_lexer": "ipython3",
   "version": "3.12.0"
  }
 },
 "nbformat": 4,
 "nbformat_minor": 2
}
